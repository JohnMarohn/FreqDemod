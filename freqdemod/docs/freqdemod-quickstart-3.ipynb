{
 "metadata": {
  "name": "",
  "signature": "sha256:6d47fa52c1c31121034f198fceb0cf2745ebba58024172b445d3d564a92872b3"
 },
 "nbformat": 3,
 "nbformat_minor": 0,
 "worksheets": [
  {
   "cells": [
    {
     "cell_type": "markdown",
     "metadata": {},
     "source": [
      "# freqdemod-quickstart-3\n",
      "\n",
      "### Author information\n",
      "\n",
      "John A. Marohn (jam99@cornell.edu)  \n",
      "Department of Chemistry and Chemical Biology  \n",
      "Cornell University  \n",
      "Ithaca, NY USA; 14853-1301\n",
      "\n",
      "### Date\n",
      "\n",
      "2014/07/01 -- 2014/07/02\n",
      "\n",
      "### Abstract\n",
      "\n",
      "We use ``freqdemod``'s ``fit()`` function to recover transient frequency chenges in two frequency-modulated sine-wave signals (1) a signal that we generate here and (2) a signal generated experimentally by Sarah Nathan in a scanning Kelvin probe force microscope experiment. "
     ]
    },
    {
     "cell_type": "markdown",
     "metadata": {},
     "source": [
      "## Preliminaries\n",
      "\n",
      "Set the working directory to be one directory up from the directory where this file is stored; load the module."
     ]
    },
    {
     "cell_type": "code",
     "collapsed": false,
     "input": [
      "import os, sys\n",
      "module_path = os.path.abspath(os.path.join(os.getcwd(), '..'))\n",
      "sys.path.append(module_path)\n",
      "\n",
      "from freqdemod import Signal"
     ],
     "language": "python",
     "metadata": {},
     "outputs": [],
     "prompt_number": 1
    },
    {
     "cell_type": "markdown",
     "metadata": {},
     "source": [
      "## Simulated data\n",
      "\n",
      "### Create a frequency-modulated sine wave\n",
      "\n",
      "\n",
      "Set the digitization frequency to 100 kHz, corresponding to a time step of 10 us. We want a signal with quite a few points, say 512k = 512 x 1024 = 524288 points. The duration of the signal will thus be 524288 x 10E-6 = 5.24288 seconds.\n",
      "\n",
      "The sine wave has an initial frequency of 4 kHz. Between 1.5 s and 3.5 s, the frequency is ramped linearly to 6 kHz. It remains 6 kHz until the end of the signal."
     ]
    },
    {
     "cell_type": "code",
     "collapsed": false,
     "input": [
      "import math\n",
      "import numpy as np\n",
      "import matplotlib.pyplot as plt\n",
      "%matplotlib inline\n",
      "\n",
      "# set values\n",
      "\n",
      "fd = 100E3\n",
      "nt = 512*1024\n",
      "\n",
      "f_start = 4.000E3\n",
      "f_end = 6.000E3\n",
      "\n",
      "t_start = 1.5\n",
      "t_end = 3.5\n",
      "\n",
      "# time array\n",
      "\n",
      "dt = 1/fd\n",
      "\n",
      "t1 = dt*np.arange(int(round(t_start/dt)))\n",
      "t2 = dt*np.arange(int(round((t_end-t_start)/dt)))\n",
      "t3 = dt*np.arange(nt-t1.size-t2.size)\n",
      "\n",
      "t2plus = t2+t1[-1]+dt\n",
      "t3plus = t3+t2plus[-1]+dt\n",
      "\n",
      "t = np.append(np.append(t1,t2plus),t3plus)\n",
      "\n",
      "# frequency array\n",
      "\n",
      "f1 = f_start*np.ones(t1.size)\n",
      "f2 = f_start + t2*(f_end-f_start)/(t2[-1]-t2[0])\n",
      "f3 = f_end*np.ones(t3.size)\n",
      "\n",
      "f = np.append(np.append(f1,f2),f3)\n",
      "\n",
      "# phase accumulator\n",
      "\n",
      "p = np.zeros(t.size)\n",
      "\n",
      "p[0] = 0.0\n",
      "for k in np.arange(1,t.size):\n",
      "    p[k] = p[k-1] + dt*f[k-1]\n",
      "\n",
      "p = 2*np.pi*p\n",
      "\n",
      "# the signal\n",
      "\n",
      "s = np.cos(p)"
     ],
     "language": "python",
     "metadata": {},
     "outputs": [],
     "prompt_number": 2
    },
    {
     "cell_type": "markdown",
     "metadata": {},
     "source": [
      "### Create the Signal objec, demodulate it, and fit the phase *vs* time data\n",
      "\n",
      "... to recover the oscillation frequency.  We have a few choices to make:\n",
      "\n",
      "* We choose window rise/fall time of 1 ms\n",
      "\n",
      "* We choose a filter bandwidth of 5 kHz, larger than the 2 kHz width of the frequency sweep. \n",
      "\n",
      "* Finally we need to choose the \"chunk\" time.  We want to choose this so that the associated Nyquist frequency is *larger* than the filter bandwidth.  This is so that we do not alias any noise into the low-frequency part of the frequency power spectrum.  Choose 1/(10 kHz) = 100 us "
     ]
    },
    {
     "cell_type": "code",
     "collapsed": false,
     "input": [
      "S = Signal(s,\"x\",\"nm\",1/fd)\n",
      "S.binarate(\"middle\")\n",
      "S.window(tw=1.0E-3)\n",
      "S.fft()\n",
      "S.filter(bw=5.0E3)\n",
      "S.ifft()\n",
      "S.trim()\n",
      "S.fit(dt_chunk_target=100E-6)\n",
      "print(S)"
     ],
     "language": "python",
     "metadata": {},
     "outputs": [
      {
       "output_type": "stream",
       "stream": "stdout",
       "text": [
        "Signal\n",
        "======\n",
        "signal name: x\n",
        "signal unit: nm\n",
        "signal lenth = 524288\n",
        "time step = 10.000 us\n",
        "rms = 0.7071\n",
        "max = 1\n",
        "min = -1\n",
        " \n",
        "Signal Report\n",
        "=============\n",
        "* Add a signal x[nm] of length 524288, time step 10.000 us, and duration 5.243 s\n",
        "\n",
        "* Truncate the signal to be 524288 points long, a power of two. This was done by chopping points off the beginning and end of the signal array, that is, by using points 0 up to 524288.\n",
        "\n",
        "* Window the signal with a rising/falling blackman filter having a rise/fall time of 1000.000 us (100 points).\n",
        "\n",
        "* Fourier transform the windowed signal. It took 797.2 ms to compute the FFT.\n",
        "\n",
        "* Reject negative frequencies, apply a bandpass filter of bandwidth 5000.0 Hz & order 50, and set the delay time to 250.0 us.\n",
        "\n",
        "* Apply an inverse Fourier transform.\n",
        "\n",
        "* Remove the leading and trailing ripple (25 points) from the complex signal. Compute the signal phase and amplitude.\n",
        "\n",
        "* Curve fit the phase data. The target chunk duration is 100.000 us; the actual chunk duration is 100.000 us (10 points). 52423 chunks will be curve fit; 5242.300 ms of data. It took 29.2 ms to perform the curve fit and obtain the frequency.\n"
       ]
      }
     ],
     "prompt_number": 3
    },
    {
     "cell_type": "markdown",
     "metadata": {},
     "source": [
      "### Plot the resulting frequency *vs* time\n"
     ]
    },
    {
     "cell_type": "code",
     "collapsed": false,
     "input": [
      "S.plot_phase_fit()"
     ],
     "language": "python",
     "metadata": {},
     "outputs": [
      {
       "metadata": {},
       "output_type": "display_data",
       "png": "[encoded data removed]",
       "text": [
        "<matplotlib.figure.Figure at 0x101f39850>"
       ]
      }
     ],
     "prompt_number": 4
    },
    {
     "cell_type": "markdown",
     "metadata": {},
     "source": [
      "## Experimental data"
     ]
    },
    {
     "cell_type": "markdown",
     "metadata": {},
     "source": [
      "### Read in the signal\n",
      "\n",
      "... which is stored, compactly, in a ``HDF5`` type file."
     ]
    },
    {
     "cell_type": "code",
     "collapsed": false,
     "input": [
      "import h5py\n",
      "with h5py.File('JAM_9p90__copy.h5', 'r') as h5f:\n",
      "    s = h5f['s'][:]"
     ],
     "language": "python",
     "metadata": {},
     "outputs": [],
     "prompt_number": 5
    },
    {
     "cell_type": "markdown",
     "metadata": {},
     "source": [
      "### Create the Signal objec, demodulate it, and fit the phase vs time data\n",
      "\n",
      "... to recover the oscillation frequency. We have a few choices to make:\n",
      "\n",
      "* We choose window rise/fall time of 10 ms.\n",
      "\n",
      "* We choose a filter bandwidth of 1 kHz -- large enough to capture a ms transient but small enough to give us some signal averaging.\n",
      "\n",
      "* Choose the \"chunk\" time to be 0.5 ms; the associated Nyquist frequency is 2 kHz -- larger than the filter bandwidth."
     ]
    },
    {
     "cell_type": "code",
     "collapsed": false,
     "input": [
      "S = Signal(s,\"x\",\"nm\",1/1.15E6)\n",
      "S.binarate(\"middle\")\n",
      "S.window(tw=10.0E-3)\n",
      "S.fft()\n",
      "S.filter(bw=1.0E3)\n",
      "S.ifft()\n",
      "S.trim()\n",
      "S.fit(dt_chunk_target=0.50E-3)\n",
      "print(S)"
     ],
     "language": "python",
     "metadata": {},
     "outputs": [
      {
       "output_type": "stream",
       "stream": "stdout",
       "text": [
        "Signal\n",
        "======\n",
        "signal name: x\n",
        "signal unit: nm\n",
        "signal lenth = 524288\n",
        "time step = 0.870 us\n",
        "rms = 0.1486\n",
        "max = 0.1885\n",
        "min = -0.2339\n",
        " \n",
        "Signal Report\n",
        "=============\n",
        "* Add a signal x[nm] of length 762375, time step 0.870 us, and duration 0.663 s\n",
        "\n",
        "* Truncate the signal to be 524288 points long, a power of two. This was done by chopping points off the beginning and end of the signal array, that is, by using points 119043 up to 643331.\n",
        "\n",
        "* Window the signal with a rising/falling blackman filter having a rise/fall time of 10000.000 us (11500 points).\n",
        "\n",
        "* Fourier transform the windowed signal. It took 153.0 ms to compute the FFT.\n",
        "\n",
        "* Reject negative frequencies, apply a bandpass filter of bandwidth 1000.0 Hz & order 50, and set the delay time to 1250.0 us.\n",
        "\n",
        "* Apply an inverse Fourier transform.\n",
        "\n",
        "* Remove the leading and trailing ripple (1437 points) from the complex signal. Compute the signal phase and amplitude.\n",
        "\n",
        "* Curve fit the phase data. The target chunk duration is 500.000 us; the actual chunk duration is 500.000 us (575 points). 906 chunks will be curve fit; 453.000 ms of data. It took 30.4 ms to perform the curve fit and obtain the frequency.\n"
       ]
      }
     ],
     "prompt_number": 6
    },
    {
     "cell_type": "markdown",
     "metadata": {},
     "source": [
      "### Plot the frequency *vs* time"
     ]
    },
    {
     "cell_type": "code",
     "collapsed": false,
     "input": [
      "print \"number of elements = {}\".format(S.signal['fit_freq'].size)\n",
      "print \"number of nan = {}\".format(np.count_nonzero(np.isnan(S.signal['fit_freq'])))\n",
      "\n",
      "S.plot_phase_fit()"
     ],
     "language": "python",
     "metadata": {},
     "outputs": [
      {
       "output_type": "stream",
       "stream": "stdout",
       "text": [
        "number of elements = 906\n",
        "number of nan = 0\n"
       ]
      },
      {
       "metadata": {},
       "output_type": "display_data",
       "png": "[encoded data removed]",
       "text": [
        "<matplotlib.figure.Figure at 0x101fb4710>"
       ]
      }
     ],
     "prompt_number": 7
    },
    {
     "cell_type": "markdown",
     "metadata": {},
     "source": [
      "### Replot the frequency shift\n",
      "\n",
      "There is an interesting blip in the middle that we want to take a closer look at.  To do this, compute a frequency shift; zoom in to the middle section of the data; and plot *vs* time shift in ms."
     ]
    },
    {
     "cell_type": "code",
     "collapsed": false,
     "input": [
      "import matplotlib.pyplot as plt\n",
      "import copy\n",
      "\n",
      "# make a copy of the fitten data\n",
      "\n",
      "fit_freq_temp = copy.deepcopy(S.signal['fit_freq'])\n",
      "fit_time_temp = copy.deepcopy(S.signal['fit_time'])\n",
      "\n",
      "# caculate a frequency shift by subtrating off\n",
      "#  the average over the first third of the data\n",
      "\n",
      "fit_freq_size = fit_freq_temp.size\n",
      "fit_freq_size_avg = fit_freq_temp[0:fit_freq_size/3].mean()\n",
      "fit_freq_temp = fit_freq_temp - fit_freq_size_avg\n",
      "\n",
      "# define a zoom window -- define as a perecentage\n",
      "#  the the window still works if we change the chunk time\n",
      "#  for curve fitting\n",
      "\n",
      "start = 0.47*fit_freq_size\n",
      "stop = 0.52*fit_freq_size\n",
      "\n",
      "# plot the frequency shift [Hz] versus time [ms]\n",
      "#  reset the time at the start of the plot to zero\n",
      "\n",
      "x = 1E3*(fit_time_temp[start:stop] - fit_time_temp[start])\n",
      "y = fit_freq_temp[start:stop]\n",
      "\n",
      "plt.rcParams['text.usetex'] = True\n",
      "\n",
      "plt.plot(x,y,'ko-')\n",
      "plt.ylabel(r\"$\\Delta f \\: \\mathrm{[Hz]}$\")\n",
      "plt.xlabel(r\"$\\Delta t \\: \\mathrm{[ms]}$\")\n",
      "plt.show()\n"
     ],
     "language": "python",
     "metadata": {},
     "outputs": [
      {
       "metadata": {},
       "output_type": "display_data",
       "png": "[encoded data removed]",
       "text": [
        "<matplotlib.figure.Figure at 0x101fac550>"
       ]
      }
     ],
     "prompt_number": 9
    }
   ],
   "metadata": {}
  }
 ]
}