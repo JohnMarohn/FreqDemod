{
 "metadata": {
  "name": "",
  "signature": "sha256:fc4bd6b6126ca977360791e0b151dfb12ac3d70d6c50ab45602ad0ed960fa973"
 },
 "nbformat": 3,
 "nbformat_minor": 0,
 "worksheets": [
  {
   "cells": [
    {
     "cell_type": "markdown",
     "metadata": {},
     "source": [
      "# freqdemod-quickstart-1\n",
      "\n",
      "### Author information\n",
      "\n",
      "John A. Marohn (jam99@cornell.edu)  \n",
      "Department of Chemistry and Chemical Biology  \n",
      "Cornell University  \n",
      "Ithaca, NY USA; 14853-1301\n",
      "\n",
      "### Date\n",
      "\n",
      "2014/06/28\n",
      "\n",
      "### Abstract\n",
      "\n",
      "Here we show how to use ``freqdemod`` to demodulate a simple, noiseless sine-wave oscillation."
     ]
    },
    {
     "cell_type": "markdown",
     "metadata": {},
     "source": [
      "## Preliminaries\n",
      "\n",
      "We first have to tell Python where to find the *freqdemod* module.  Since we are running this file from the ``/docs`` directory of the module diretory, we have to tell ``sys.path`` to look one level up to find the module."
     ]
    },
    {
     "cell_type": "code",
     "collapsed": false,
     "input": [
      "import os, sys\n",
      "module_path = os.path.abspath(os.path.join(os.getcwd(), '..'))\n",
      "sys.path.append(module_path)"
     ],
     "language": "python",
     "metadata": {},
     "outputs": [],
     "prompt_number": 5
    },
    {
     "cell_type": "markdown",
     "metadata": {},
     "source": [
      "Now we are ready to load the module:"
     ]
    },
    {
     "cell_type": "code",
     "collapsed": false,
     "input": [
      "from freqdemod import Signal"
     ],
     "language": "python",
     "metadata": {},
     "outputs": [],
     "prompt_number": 7
    },
    {
     "cell_type": "markdown",
     "metadata": {},
     "source": [
      "## Simple sine wave"
     ]
    },
    {
     "cell_type": "code",
     "collapsed": false,
     "input": [
      "import numpy as np\n",
      "import matplotlib.pyplot as plt\n",
      "%matplotlib inline\n",
      "\n",
      "f0 = 5.457E3\n",
      "\n",
      "fd = 50.0E3\n",
      "dt = 1/fd\n",
      "nt = 300\n",
      "\n",
      "t = dt*np.arange(nt)\n",
      "s = np.sin(2*np.pi*f0*t)\n",
      "s_name = \"x\"\n",
      "s_unit = \"nm\"\n",
      "\n",
      "plt.plot(t*1E6,s)\n",
      "plt.xlabel(\"t [us]\")\n",
      "plt.ylabel(s_name + \" [\" + s_unit + \"]\")\n",
      "plt.show()"
     ],
     "language": "python",
     "metadata": {},
     "outputs": [
      {
       "metadata": {},
       "output_type": "display_data",
       "png": "[encoded data removed]",
       "text": [
        "<matplotlib.figure.Figure at 0x10aa91250>"
       ]
      }
     ],
     "prompt_number": 8
    },
    {
     "cell_type": "code",
     "collapsed": false,
     "input": [
      "S = Signal(s,s_name,s_unit,dt)\n",
      "print(S)"
     ],
     "language": "python",
     "metadata": {},
     "outputs": [
      {
       "output_type": "stream",
       "stream": "stdout",
       "text": [
        "Signal\n",
        "======\n",
        "signal name: x\n",
        "signal unit: nm\n",
        "signal lenth = 300\n",
        "time step = 20.000 us\n",
        "rms = 0.7059\n",
        "max = 1\n",
        "min = -1\n"
       ]
      }
     ],
     "prompt_number": 9
    },
    {
     "cell_type": "markdown",
     "metadata": {},
     "source": [
      "Before proceeding with the Fast Fourier Transform, force the data to be a factor of two in length"
     ]
    },
    {
     "cell_type": "code",
     "collapsed": false,
     "input": [
      "S.binarate(\"middle\")\n",
      "print(S)"
     ],
     "language": "python",
     "metadata": {},
     "outputs": [
      {
       "output_type": "stream",
       "stream": "stdout",
       "text": [
        "Signal\n",
        "======\n",
        "signal name: x\n",
        "signal unit: nm\n",
        "signal lenth = 256\n",
        "time step = 20.000 us\n",
        "rms = 0.7066\n",
        "max = 1\n",
        "min = -1\n"
       ]
      }
     ],
     "prompt_number": 10
    },
    {
     "cell_type": "code",
     "collapsed": false,
     "input": [],
     "language": "python",
     "metadata": {},
     "outputs": [],
     "prompt_number": 10
    }
   ],
   "metadata": {}
  }
 ]
}