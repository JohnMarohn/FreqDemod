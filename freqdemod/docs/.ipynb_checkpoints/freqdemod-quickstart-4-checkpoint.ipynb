{
 "metadata": {
  "name": "",
  "signature": "sha256:630b87079b2cebbeb82bd24d12f9625320b5a2005b8eec5dd05f95a584fcbe79"
 },
 "nbformat": 3,
 "nbformat_minor": 0,
 "worksheets": [
  {
   "cells": [
    {
     "cell_type": "markdown",
     "metadata": {},
     "source": [
      "# freqdemod-quickstart-4\n",
      "\n",
      "### Author information\n",
      "\n",
      "John A. Marohn (jam99@cornell.edu)  \n",
      "Department of Chemistry and Chemical Biology  \n",
      "Cornell University  \n",
      "Ithaca, NY USA; 14853-1301\n",
      "\n",
      "### Date\n",
      "\n",
      "2014/07/03 -- 2014/07/04\n",
      "\n",
      "### Abstract\n",
      "\n",
      "Here we demonstrate some of the plotting features of ``freqdemod`` package."
     ]
    },
    {
     "cell_type": "markdown",
     "metadata": {},
     "source": [
      "## Preliminaries\n",
      "\n",
      "Set the working directory to be one directory up from the directory where this file is stored; load the module."
     ]
    },
    {
     "cell_type": "code",
     "collapsed": false,
     "input": [
      "import os, sys\n",
      "module_path = os.path.abspath(os.path.join(os.getcwd(), '..'))\n",
      "sys.path.append(module_path)\n",
      "\n",
      "from freqdemod import Signal"
     ],
     "language": "python",
     "metadata": {},
     "outputs": []
    },
    {
     "cell_type": "markdown",
     "metadata": {},
     "source": [
      "Run the \"magic\" that tells ipython to put the plots inline and not in a pop-up window."
     ]
    },
    {
     "cell_type": "code",
     "collapsed": false,
     "input": [
      "%matplotlib inline"
     ],
     "language": "python",
     "metadata": {},
     "outputs": []
    },
    {
     "cell_type": "markdown",
     "metadata": {},
     "source": [
      "Import useful packages and set the figure-plotting defaults"
     ]
    },
    {
     "cell_type": "code",
     "collapsed": false,
     "input": [
      "import numpy as np\n",
      "import matplotlib.pylab as plt\n",
      "\n",
      "font = {'family' : 'serif',\n",
      "        'weight' : 'normal',\n",
      "        'size'   : 20}\n",
      "\n",
      "plt.rc('font', **font)\n",
      "plt.rcParams['figure.figsize'] = 8, 6"
     ],
     "language": "python",
     "metadata": {},
     "outputs": []
    },
    {
     "cell_type": "markdown",
     "metadata": {},
     "source": [
      "## Read in data, analyze it, plot it\n",
      "\n",
      "The following code is drawn from ``freqdemod-quickstart-3``."
     ]
    },
    {
     "cell_type": "code",
     "collapsed": false,
     "input": [
      "# Read in the trial data\n",
      "\n",
      "import h5py\n",
      "with h5py.File('JAM_9p90__copy.h5', 'r') as h5f:\n",
      "    s = h5f['s'][:]\n",
      "\n",
      "# Analyze it    \n",
      "    \n",
      "S = Signal(s,\"x\",\"nm\",1/1.15E6)\n",
      "S.binarate(\"middle\")\n",
      "S.window(tw=10.0E-3)\n",
      "S.fft()\n",
      "S.filter(bw=1.0E3)\n",
      "S.ifft()\n",
      "S.trim()\n",
      "S.fit(dt_chunk_target=0.50E-3)\n",
      "\n",
      "# Plot the inferred phase vs time\n",
      "#  and print a report\n",
      "\n",
      "S.plot_phase_fit()\n",
      "print(S)"
     ],
     "language": "python",
     "metadata": {},
     "outputs": []
    },
    {
     "cell_type": "markdown",
     "metadata": {},
     "source": [
      "## Test-drive the new plotting functions"
     ]
    },
    {
     "cell_type": "markdown",
     "metadata": {},
     "source": [
      "The plotting option ``delta=\"yes\"`` presents the frequency data as a *shift* relative to the resonance frequency determined by the ``.filter`` function.  The plotting option ``baseline=0.1`` uses instead the first 0.1 seconds of data as the reference for computing the frequency shift."
     ]
    },
    {
     "cell_type": "code",
     "collapsed": false,
     "input": [
      "S.plot_phase_fit()\n",
      "S.plot_phase_fit(delta=\"yes\")\n",
      "S.plot_phase_fit(delta=\"yes\",baseline=0.1)"
     ],
     "language": "python",
     "metadata": {},
     "outputs": []
    },
    {
     "cell_type": "markdown",
     "metadata": {},
     "source": [
      "Let's back up and look at the data in more detail.  First the phase:"
     ]
    },
    {
     "cell_type": "code",
     "collapsed": false,
     "input": [
      "S.plot_phase()\n",
      "S.plot_phase(delta=\"yes\")"
     ],
     "language": "python",
     "metadata": {},
     "outputs": []
    },
    {
     "cell_type": "code",
     "collapsed": false,
     "input": [],
     "language": "python",
     "metadata": {},
     "outputs": []
    }
   ],
   "metadata": {}
  }
 ]
}