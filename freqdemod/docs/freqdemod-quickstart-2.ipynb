{
 "metadata": {
  "name": "",
  "signature": "sha256:ea8a98ca705685fd918e670d35a57c63378c89ca7eee4bede64b254096037539"
 },
 "nbformat": 3,
 "nbformat_minor": 0,
 "worksheets": [
  {
   "cells": [
    {
     "cell_type": "markdown",
     "metadata": {},
     "source": [
      "# freqdemod-quickstart-2\n",
      "\n",
      "### Author information\n",
      "\n",
      "John A. Marohn (jam99@cornell.edu)  \n",
      "Department of Chemistry and Chemical Biology  \n",
      "Cornell University  \n",
      "Ithaca, NY USA; 14853-1301\n",
      "\n",
      "### Date\n",
      "\n",
      "2014/06/30 -- 2014/07/01 \n",
      "\n",
      "### Abstract\n",
      "\n",
      "We generate a frequency-modulated sine-wave signal and use ``freqdemod`` to recover the signal's frequency *vs* time."
     ]
    },
    {
     "cell_type": "markdown",
     "metadata": {},
     "source": [
      "## Preliminaries\n",
      "\n",
      "We first have to tell Python where to find the freqdemod module. Since we are running this file from the /docs directory of the module diretory, we have to tell sys.path to look one level up to find the module."
     ]
    },
    {
     "cell_type": "code",
     "collapsed": false,
     "input": [
      "import os, sys\n",
      "module_path = os.path.abspath(os.path.join(os.getcwd(), '..'))\n",
      "sys.path.append(module_path)"
     ],
     "language": "python",
     "metadata": {},
     "outputs": [],
     "prompt_number": 1
    },
    {
     "cell_type": "markdown",
     "metadata": {},
     "source": [
      "Now we are ready to load the module:"
     ]
    },
    {
     "cell_type": "code",
     "collapsed": false,
     "input": [
      "from freqdemod import Signal"
     ],
     "language": "python",
     "metadata": {},
     "outputs": [],
     "prompt_number": 2
    },
    {
     "cell_type": "markdown",
     "metadata": {},
     "source": [
      "## Create a frequency-modulated sine wave"
     ]
    },
    {
     "cell_type": "markdown",
     "metadata": {},
     "source": [
      "Set the digitization frequency to 100 kHz, corresponding to a time step of 10 us.  We want a signal with quite a few points, say 128k = 128 x 1024 = 131072 points. The duration of the signal will thus be  131072 x 10E-6 = 1.31072 seconds.\n",
      "\n",
      "The sine wave has an initial frequency of 4 kHz.  Between 0.25s and 0.75s, the frequency is ramped linearly to 6 kHz.  It remains 6 kHz until the end of the signal."
     ]
    },
    {
     "cell_type": "code",
     "collapsed": false,
     "input": [
      "import math\n",
      "import numpy as np\n",
      "import matplotlib.pyplot as plt\n",
      "%matplotlib inline"
     ],
     "language": "python",
     "metadata": {},
     "outputs": [],
     "prompt_number": 3
    },
    {
     "cell_type": "markdown",
     "metadata": {},
     "source": [
      "Set up the frequency-ramped sine wave.  This takes quite a bit of care!"
     ]
    },
    {
     "cell_type": "code",
     "collapsed": false,
     "input": [
      "fd = 100E3\n",
      "dt = 1/fd\n",
      "\n",
      "f_start = 4.000E3\n",
      "f_end = 6.000E3\n",
      "\n",
      "# time array\n",
      "\n",
      "t1 = dt*np.arange(int(round(0.25/dt)))\n",
      "t2 = dt*np.arange(int(round((0.75-0.25)/dt)))\n",
      "t3 = dt*np.arange(128*1024-t1.size-t2.size)\n",
      "\n",
      "t2plus = t2+t1[-1]+dt\n",
      "t3plus = t3+t2plus[-1]+dt\n",
      "\n",
      "t = np.append(np.append(t1,t2plus),t3plus)\n",
      "\n",
      "# frequency array\n",
      "\n",
      "f1 = f_start*np.ones(t1.size)\n",
      "f2 = f_start + t2*(f_end-f_start)/(t2[-1]-t2[0])\n",
      "f3 = f_end*np.ones(t3.size)\n",
      "\n",
      "f = np.append(np.append(f1,f2),f3)\n",
      "\n",
      "# phase accumulator\n",
      "\n",
      "p = np.zeros(t.size)\n",
      "p[0] = 0.0\n",
      "\n",
      "for k in np.arange(1,t.size):\n",
      "    p[k] = p[k-1] + dt*f[k-1]\n",
      "\n",
      "p = 2*np.pi*p\n",
      "\n",
      "# the signal\n",
      "\n",
      "x = np.cos(p)"
     ],
     "language": "python",
     "metadata": {},
     "outputs": [],
     "prompt_number": 4
    },
    {
     "cell_type": "markdown",
     "metadata": {},
     "source": [
      "Now check out the arrays"
     ]
    },
    {
     "cell_type": "code",
     "collapsed": false,
     "input": [
      "print \"total number of time points: \", t.size \n",
      "print \"number of points in t1: \", t1.size\n",
      "print \"number of points in t2: \", t2.size\n",
      "print \"number of points in t3: \", t3.size\n",
      "print \"number of points in f: \", f.size"
     ],
     "language": "python",
     "metadata": {},
     "outputs": [
      {
       "output_type": "stream",
       "stream": "stdout",
       "text": [
        "total number of time points:  131072\n",
        "number of points in t1:  25000\n",
        "number of points in t2:  50000\n",
        "number of points in t3:  56072\n",
        "number of points in f:  131072\n"
       ]
      }
     ],
     "prompt_number": 5
    },
    {
     "cell_type": "code",
     "collapsed": false,
     "input": [
      "print \"time array ==>\"\n",
      "print \"  near first transition: \", 1E6*t[t1.size-3:t1.size+3]\n",
      "print \"  near second transition\", 1E6*t[t1.size+t2.size-3:t1.size+t2.size+3]\n",
      "print \"  at end = \", 1E6*t[-3:]"
     ],
     "language": "python",
     "metadata": {},
     "outputs": [
      {
       "output_type": "stream",
       "stream": "stdout",
       "text": [
        "time array ==>\n",
        "  near first transition:  [ 249970.  249980.  249990.  250000.  250010.  250020.]\n",
        "  near second transition [ 749970.  749980.  749990.  750000.  750010.  750020.]\n",
        "  at end =  [ 1310690.  1310700.  1310710.]\n"
       ]
      }
     ],
     "prompt_number": 6
    },
    {
     "cell_type": "code",
     "collapsed": false,
     "input": [
      "print \"frequency ramp start: \", f[0:3]\n",
      "print \"frequency ramp end: \", f[-3:]"
     ],
     "language": "python",
     "metadata": {},
     "outputs": [
      {
       "output_type": "stream",
       "stream": "stdout",
       "text": [
        "frequency ramp start:  [ 4000.  4000.  4000.]\n",
        "frequency ramp end:  [ 6000.  6000.  6000.]\n"
       ]
      }
     ],
     "prompt_number": 7
    },
    {
     "cell_type": "code",
     "collapsed": false,
     "input": [
      "print \"phase array ==>\"\n",
      "print \"  near first transition: \", p[t1.size-3:t1.size+3]/(2*np.pi)\n",
      "print \"  near second transition\", p[t1.size+t2.size-3:t1.size+t2.size+3]/(2*np.pi)\n",
      "print \"  at end = \", 1E6*p[-3:]"
     ],
     "language": "python",
     "metadata": {},
     "outputs": [
      {
       "output_type": "stream",
       "stream": "stdout",
       "text": [
        "phase array ==>\n",
        "  near first transition:  [  999.88        999.92        999.96       1000.         1000.04\n",
        "  1000.0800004]\n",
        "  near second transition [ 3499.8200012  3499.8800004  3499.94       3500.         3500.06       3500.12     ]\n",
        "  at end =  [  4.31286636e+10   4.31290406e+10   4.31294176e+10]\n"
       ]
      }
     ],
     "prompt_number": 8
    },
    {
     "cell_type": "code",
     "collapsed": false,
     "input": [
      "plt.plot(t,f)\n",
      "plt.ylim([3E3,7E3])\n",
      "plt.show()\n",
      "\n",
      "plt.plot(t,p)\n",
      "plt.show()\n",
      "\n",
      "trans1 = list(np.arange(t1.size-20,t1.size+20))\n",
      "plt.plot(1E6*t[trans1],x[trans1],\"o-\")\n",
      "plt.show()\n",
      "\n",
      "trans2 = list(np.arange(t1.size+t2.size-20,t1.size+t2.size+20))\n",
      "plt.plot(1E6*t[trans2],x[trans2],\"o-\")\n",
      "plt.show()"
     ],
     "language": "python",
     "metadata": {},
     "outputs": [
      {
       "metadata": {},
       "output_type": "display_data",
       "png": "[encoded data removed]",
       "text": [
        "<matplotlib.figure.Figure at 0x10ab4db10>"
       ]
      },
      {
       "metadata": {},
       "output_type": "display_data",
       "png": "[encoded data removed]",
       "text": [
        "<matplotlib.figure.Figure at 0x10af2f350>"
       ]
      },
      {
       "metadata": {},
       "output_type": "display_data",
       "png": "[encoded data removed]",
       "text": [
        "<matplotlib.figure.Figure at 0x10bfbeb90>"
       ]
      },
      {
       "metadata": {},
       "output_type": "display_data",
       "png": "[encoded data removed]",
       "text": [
        "<matplotlib.figure.Figure at 0x10af1b9d0>"
       ]
      }
     ],
     "prompt_number": 9
    },
    {
     "cell_type": "markdown",
     "metadata": {},
     "source": [
      "## Demodulate it"
     ]
    },
    {
     "cell_type": "code",
     "collapsed": false,
     "input": [
      "S = Signal(x,\"x\",\"nm\",1/fd)\n",
      "S.binarate(\"middle\")\n",
      "S.window(1.0E-3)\n",
      "S.fft()\n",
      "S.filter(bw=5.0E3)\n",
      "S.ifft()\n",
      "S.trim()\n",
      "print(S)"
     ],
     "language": "python",
     "metadata": {},
     "outputs": [
      {
       "output_type": "stream",
       "stream": "stdout",
       "text": [
        "Signal\n",
        "======\n",
        "signal name: x\n",
        "signal unit: nm\n",
        "signal lenth = 131072\n",
        "time step = 10.000 us\n",
        "rms = 0.7071\n",
        "max = 1\n",
        "min = -1\n",
        " \n",
        "Signal Report\n",
        "=============\n",
        "* Add a signal x[nm] of length 131072 and time step 10.000 us.\n",
        "\n",
        "* Truncate the signal to be 131072 points long, a power of two. This was done by chopping points off the beginning and end of the signal array, that is, by using points 0 up to 131072.\n",
        "\n",
        "* Window the signal with a rising/falling blackman filter having a rise/fall time of 1000.000 us (100 points).\n",
        "\n",
        "* Fourier transform the windowed signal.\n",
        "\n",
        "* Reject negative frequencies, apply a bandpass filter of bandwidth 5000.0 Hz & order 50, and set the delay time to 250.0 us.\n",
        "\n",
        "* Apply an inverse Fourier transform.\n",
        "\n",
        "* Remove the leading and trailing ripple from the complex signal. Compute the signal phase and amplitude.\n"
       ]
      }
     ],
     "prompt_number": 10
    },
    {
     "cell_type": "code",
     "collapsed": false,
     "input": [
      "plt.plot(S.signal['t']*1E6,S.signal['theta'])\n",
      "plt.xlim(0,S.signal['t_original'][-1]*1E6)\n",
      "plt.ylabel(\"phase [cycles]\")\n",
      "plt.xlabel(\"t [us]\")\n",
      "plt.show()\n",
      "\n",
      "plt.plot(S.signal['t']*1E6,S.signal['a'])\n",
      "plt.xlim(0,S.signal['t_original'][-1]*1E6)\n",
      "plt.ylabel(\"amplitude\")\n",
      "plt.xlabel(\"t [us]\")\n",
      "plt.show()"
     ],
     "language": "python",
     "metadata": {},
     "outputs": [
      {
       "metadata": {},
       "output_type": "display_data",
       "png": "[encoded data removed]",
       "text": [
        "<matplotlib.figure.Figure at 0x10af3cad0>"
       ]
      },
      {
       "metadata": {},
       "output_type": "display_data",
       "png": "[encoded data removed]",
       "text": [
        "<matplotlib.figure.Figure at 0x10af2a590>"
       ]
      }
     ],
     "prompt_number": 11
    },
    {
     "cell_type": "markdown",
     "metadata": {},
     "source": [
      "Pick out 1000 points of data near the beginning and near the end.  Fit the phase *vs* time data to a line.  We see that we recover the expected intial and final frequencies."
     ]
    },
    {
     "cell_type": "code",
     "collapsed": false,
     "input": [
      "zf = np.polyfit(S.signal['t'][1000:2000], S.signal['theta'][1000:2000], 1)\n",
      "print \"Best-fit frequency = {0:.3f} Hz\".format(zf[0])\n",
      "\n",
      "zf = np.polyfit(S.signal['t'][-2000:-1000], S.signal['theta'][-2000:-1000], 1)\n",
      "print \"Best-fit frequency = {0:.3f} Hz\".format(zf[0])"
     ],
     "language": "python",
     "metadata": {},
     "outputs": [
      {
       "output_type": "stream",
       "stream": "stdout",
       "text": [
        "Best-fit frequency = 4000.000 Hz\n",
        "Best-fit frequency = 6000.000 Hz\n"
       ]
      }
     ],
     "prompt_number": 12
    },
    {
     "cell_type": "markdown",
     "metadata": {},
     "source": [
      "## Extract the frequency as a function of time: Try 1"
     ]
    },
    {
     "cell_type": "markdown",
     "metadata": {},
     "source": [
      "Some points have been removed from the array to eliminate filter ripple.  We can see there are fewer points than the original 131072 points."
     ]
    },
    {
     "cell_type": "code",
     "collapsed": false,
     "input": [
      "S.signal['theta'].size"
     ],
     "language": "python",
     "metadata": {},
     "outputs": [
      {
       "metadata": {},
       "output_type": "pyout",
       "prompt_number": 13,
       "text": [
        "131022"
       ]
      }
     ],
     "prompt_number": 13
    },
    {
     "cell_type": "markdown",
     "metadata": {},
     "source": [
      "We want to break the data into 10 ms chunks and fit each chunk to a line.  We thus want to break the data into sub-arrays of length"
     ]
    },
    {
     "cell_type": "code",
     "collapsed": false,
     "input": [
      "ct = int(round(10.0E-3/dt))\n",
      "print ct"
     ],
     "language": "python",
     "metadata": {},
     "outputs": [
      {
       "output_type": "stream",
       "stream": "stdout",
       "text": [
        "1000\n"
       ]
      }
     ],
     "prompt_number": 14
    },
    {
     "cell_type": "markdown",
     "metadata": {},
     "source": [
      "Each chunk should be 1000 points long and there should be 131 of them:"
     ]
    },
    {
     "cell_type": "code",
     "collapsed": false,
     "input": [
      "n = ct*int(round(S.signal['theta'].size/ct))\n",
      "s_sub = S.signal['theta'][0:n].reshape((n/ct,ct))\n",
      "\n",
      "print s_sub.shape"
     ],
     "language": "python",
     "metadata": {},
     "outputs": [
      {
       "output_type": "stream",
       "stream": "stdout",
       "text": [
        "(131, 1000)\n"
       ]
      }
     ],
     "prompt_number": 15
    },
    {
     "cell_type": "markdown",
     "metadata": {},
     "source": [
      "Now set up two time arrays.  \n",
      "\n",
      "1. The first array, ``t_chunk``, is the time array we will use as the x-axis for curve fitting.  The initial element of this array will not be zero because of the trimming.\n",
      "\n",
      "2. The second array, ``t_fit``, the a time array will will plot the curve-fit results against. "
     ]
    },
    {
     "cell_type": "code",
     "collapsed": false,
     "input": [
      "t_chunck = S.signal['t'][0:ct]\n",
      "print \"t_chunck.shape = \", t_chunck.shape\n",
      "print \"first and last t_chunck values [us]: \", \\\n",
      "    1E6*np.array([t_chunck[0], t_chunck[-1]])\n",
      "\n",
      "t_fit = S.signal['t'][0:n:ct]\n",
      "print \"t_fit.shape = \", t_fit.shape\n",
      "print \"first few and last few t_fit values [us]: \", \\\n",
      "    1E6*np.array([t_fit[0], t_fit[1], t_fit[2], t_fit[-1]])\n"
     ],
     "language": "python",
     "metadata": {},
     "outputs": [
      {
       "output_type": "stream",
       "stream": "stdout",
       "text": [
        "t_chunck.shape =  (1000,)\n",
        "first and last t_chunck values [us]:  [   250.  10240.]\n",
        "t_fit.shape =  (131,)\n",
        "first few and last few t_fit values [us]:  [  2.50000000e+02   1.02500000e+04   2.02500000e+04   1.30025000e+06]\n"
       ]
      }
     ],
     "prompt_number": 16
    },
    {
     "cell_type": "code",
     "collapsed": false,
     "input": [
      "a = s_sub[:,:,np.newaxis][:,0,:]\n",
      "b = np.ones(ct)\n",
      "c = a*b\n",
      "\n",
      "print a.shape\n",
      "print b.shape\n",
      "print c.shape\n",
      "\n",
      "print c[0,0:3]\n",
      "print c[1,0:3]"
     ],
     "language": "python",
     "metadata": {},
     "outputs": [
      {
       "output_type": "stream",
       "stream": "stdout",
       "text": [
        "(131, 1)\n",
        "(1000,)\n",
        "(131, 1000)\n",
        "[ 0.99986037  0.99986037  0.99986037]\n",
        "[ 41.  41.  41.]\n"
       ]
      }
     ],
     "prompt_number": 17
    },
    {
     "cell_type": "code",
     "collapsed": false,
     "input": [
      "plt.subplot(131)\n",
      "plt.plot(1E3*t_chunck,s_sub[0,:])\n",
      "plt.ylim([0,150])\n",
      "\n",
      "plt.subplot(132)\n",
      "plt.plot(1E3*t_chunck,s_sub[1,:])\n",
      "plt.ylim([0,150])\n",
      "\n",
      "plt.subplot(133)\n",
      "plt.plot(1E3*t_chunck,s_sub[2,:])\n",
      "plt.ylim([0,150])\n",
      "\n",
      "plt.show()\n",
      "\n",
      "a = s_sub[:,:,np.newaxis][:,0,:]\n",
      "b = np.ones(ct)\n",
      "c = a*b\n",
      "\n",
      "s_sub_reset = s_sub - c\n",
      "\n",
      "plt.subplot(131)\n",
      "plt.plot(1E3*t_chunck,s_sub_reset[0,:])\n",
      "plt.ylim([0,150])\n",
      "\n",
      "plt.subplot(132)\n",
      "plt.plot(1E3*t_chunck,s_sub_reset[1,:])\n",
      "plt.ylim([0,150])\n",
      "\n",
      "plt.subplot(133)\n",
      "plt.plot(1E3*t_chunck,s_sub_reset[2,:])\n",
      "plt.ylim([0,150])\n",
      "\n",
      "plt.show()"
     ],
     "language": "python",
     "metadata": {},
     "outputs": [
      {
       "metadata": {},
       "output_type": "display_data",
       "png": "[encoded data removed]",
       "text": [
        "<matplotlib.figure.Figure at 0x10af37890>"
       ]
      },
      {
       "metadata": {},
       "output_type": "display_data",
       "png": "[encoded data removed]",
       "text": [
        "<matplotlib.figure.Figure at 0x10c7051d0>"
       ]
      }
     ],
     "prompt_number": 18
    },
    {
     "cell_type": "code",
     "collapsed": false,
     "input": [
      "print s_sub_reset.shape\n",
      "print s_sub_reset[:,0].shape"
     ],
     "language": "python",
     "metadata": {},
     "outputs": [
      {
       "output_type": "stream",
       "stream": "stdout",
       "text": [
        "(131, 1000)\n",
        "(131,)\n"
       ]
      }
     ],
     "prompt_number": 19
    },
    {
     "cell_type": "markdown",
     "metadata": {},
     "source": [
      "Curve fit Method 1."
     ]
    },
    {
     "cell_type": "code",
     "collapsed": false,
     "input": [
      "def myfunction(x):\n",
      "    return np.polyfit(t_chunck, x, 1)[0]\n",
      "\n",
      "import time\n",
      "\n",
      "start = time.time()\n",
      "zf = np.apply_along_axis(myfunction, axis=1, arr=s_sub_reset)\n",
      "stop = time.time()\n",
      "\n",
      "print \"Time to execute curve fit = {0:.3f} ms\".format(1E3*(stop-start))"
     ],
     "language": "python",
     "metadata": {},
     "outputs": [
      {
       "output_type": "stream",
       "stream": "stdout",
       "text": [
        "Time to execute curve fit = 54.746 ms\n"
       ]
      }
     ],
     "prompt_number": 20
    },
    {
     "cell_type": "markdown",
     "metadata": {},
     "source": [
      "Curve fit Method 2."
     ]
    },
    {
     "cell_type": "code",
     "collapsed": false,
     "input": [
      "import time\n",
      "zf = np.zeros(s_sub_reset[:,0].size)\n",
      "start = time.time()\n",
      "for k in np.arange(s_sub_reset[:,0].size):\n",
      "    zf[k] = np.polyfit(t_chunck, s_sub_reset[k,:], 1)[0]\n",
      "stop = time.time()\n",
      "\n",
      "print \"Time to execute curve fit = {0:.3f} ms\".format(1E3*(stop-start))"
     ],
     "language": "python",
     "metadata": {},
     "outputs": [
      {
       "output_type": "stream",
       "stream": "stdout",
       "text": [
        "Time to execute curve fit = 57.489 ms\n"
       ]
      }
     ],
     "prompt_number": 21
    },
    {
     "cell_type": "markdown",
     "metadata": {},
     "source": [
      "Plot the curve fit results"
     ]
    },
    {
     "cell_type": "code",
     "collapsed": false,
     "input": [
      "plt.plot(t_fit,zf)\n",
      "plt.xlabel(\"t [us]\")\n",
      "plt.ylabel(\"frequency [Hz]\")\n",
      "plt.show()"
     ],
     "language": "python",
     "metadata": {},
     "outputs": [
      {
       "metadata": {},
       "output_type": "display_data",
       "png": "[encoded data removed]",
       "text": [
        "<matplotlib.figure.Figure at 0x109bb3050>"
       ]
      }
     ],
     "prompt_number": 22
    },
    {
     "cell_type": "markdown",
     "metadata": {},
     "source": [
      "## Extract the frequency as a function of time: Try 2\n",
      "\n",
      "Curve fit Method 3.  We want to avoid the loop.  Apply the same re-setting trick to both the time array and the phase array.  Start by computing the the number of points:"
     ]
    },
    {
     "cell_type": "code",
     "collapsed": false,
     "input": [
      "dt_chunk_target = 1000.07E-6\n",
      "\n",
      "n_per_chunk = int(round(dt_chunk_target/dt))\n",
      "dt_chunk = dt*n_per_chunk\n",
      "n_tot_chunk = int(round(S.signal['theta'].size/n_per_chunk))\n",
      "n_total = n_per_chunk*n_tot_chunk\n",
      "\n",
      "print \"points per chunk =\", n_per_chunk\n",
      "print \"time per chunk = {0:.3f} us\".format(1E6*dt_chunk)\n",
      "print \"number of chunks =\", n_tot_chunk\n",
      "print \"number of points analyzed =\", n_total "
     ],
     "language": "python",
     "metadata": {},
     "outputs": [
      {
       "output_type": "stream",
       "stream": "stdout",
       "text": [
        "points per chunk = 100\n",
        "time per chunk = 1000.000 us\n",
        "number of chunks = 1310\n",
        "number of points analyzed = 131000\n"
       ]
      }
     ],
     "prompt_number": 23
    },
    {
     "cell_type": "markdown",
     "metadata": {},
     "source": [
      "Now rearrange the arrays, first the phase, then time."
     ]
    },
    {
     "cell_type": "code",
     "collapsed": false,
     "input": [
      "s_sub = S.signal['theta'][0:n_total].reshape((n_tot_chunk,n_per_chunk))\n",
      "print \"rearranging the phase into an array of shape {}\".format(s_sub.shape)\n",
      "\n",
      "a = s_sub[:,:,np.newaxis][:,0,:]\n",
      "b = np.ones(n_per_chunk)\n",
      "c = a*b\n",
      "\n",
      "s_sub_reset = s_sub - c\n",
      "\n",
      "plt.plot(s_sub_reset.flatten()[0:n_per_chunk*20])\n",
      "plt.xlabel(\"array index\")\n",
      "plt.ylabel(\"phase [cyeles]\")\n",
      "plt.show()"
     ],
     "language": "python",
     "metadata": {},
     "outputs": [
      {
       "output_type": "stream",
       "stream": "stdout",
       "text": [
        "rearranging the phase into an array of shape (1310, 100)\n"
       ]
      },
      {
       "metadata": {},
       "output_type": "display_data",
       "png": "[encoded data removed]",
       "text": [
        "<matplotlib.figure.Figure at 0x109bb3050>"
       ]
      }
     ],
     "prompt_number": 24
    },
    {
     "cell_type": "code",
     "collapsed": false,
     "input": [
      "t_sub = S.signal['t'][0:n_total].reshape((n_tot_chunk,n_per_chunk))\n",
      "print \"rearranging the time into an array of shape {}\".format(t_sub.shape)\n",
      "\n",
      "a = t_sub[:,:,np.newaxis][:,0,:]\n",
      "b = np.ones(n_per_chunk)\n",
      "c = a*b\n",
      "\n",
      "t_sub_reset = t_sub - c\n",
      "\n",
      "plt.plot(1E6*t_sub_reset.flatten()[0:n_per_chunk*20])\n",
      "plt.xlabel(\"array index\")\n",
      "plt.ylabel(\"time [us]\")\n",
      "plt.show()"
     ],
     "language": "python",
     "metadata": {},
     "outputs": [
      {
       "output_type": "stream",
       "stream": "stdout",
       "text": [
        "rearranging the time into an array of shape (1310, 100)\n"
       ]
      },
      {
       "metadata": {},
       "output_type": "display_data",
       "png": "[encoded data removed]",
       "text": [
        "<matplotlib.figure.Figure at 0x109bb3050>"
       ]
      }
     ],
     "prompt_number": 25
    },
    {
     "cell_type": "markdown",
     "metadata": {},
     "source": [
      "Impliment a least-squares fit \"by hand\".  We just want the slope:"
     ]
    },
    {
     "cell_type": "code",
     "collapsed": false,
     "input": [
      "SXY = np.sum(t_sub_reset*s_sub_reset,axis=1)\n",
      "SX = np.sum(t_sub_reset,axis=1)\n",
      "SY = np.sum(s_sub_reset,axis=1)\n",
      "SXX = np.sum(t_sub_reset*t_sub_reset,axis=1)\n",
      "\n",
      "slope = (n_per_chunk*SXY-SX*SY)/(n_per_chunk*SXX-SX*SX)\n",
      "\n",
      "print \"the slope array has a shape of {0}\".format(slope.shape)"
     ],
     "language": "python",
     "metadata": {},
     "outputs": [
      {
       "output_type": "stream",
       "stream": "stdout",
       "text": [
        "the slope array has a shape of (1310,)\n"
       ]
      }
     ],
     "prompt_number": 26
    },
    {
     "cell_type": "markdown",
     "metadata": {},
     "source": [
      "Plot the result -- nice!"
     ]
    },
    {
     "cell_type": "code",
     "collapsed": false,
     "input": [
      "plt.plot(t_sub[:,0],slope)\n",
      "plt.xlabel(\"t [s]\")\n",
      "plt.ylabel(\"frequency [Hz]\")\n",
      "plt.show()"
     ],
     "language": "python",
     "metadata": {},
     "outputs": [
      {
       "metadata": {},
       "output_type": "display_data",
       "png": "[encoded data removed]",
       "text": [
        "<matplotlib.figure.Figure at 0x10af0c390>"
       ]
      }
     ],
     "prompt_number": 27
    },
    {
     "cell_type": "markdown",
     "metadata": {},
     "source": [
      "Now put the whole procedure together and time it.  To be fair, we will not include the setup, just the fitting part of the procedure.  The speed up using this brute-force procedure is **approximately a factor of 5**.  We do have to store many more arrays."
     ]
    },
    {
     "cell_type": "code",
     "collapsed": false,
     "input": [
      "import time\n",
      "\n",
      "start = time.time()\n",
      "\n",
      "s_sub = S.signal['theta'][0:n_total].reshape((n_tot_chunk,n_per_chunk))\n",
      "s_sub_reset = s_sub - s_sub[:,:,np.newaxis][:,0,:]*np.ones(n_per_chunk)\n",
      "\n",
      "t_sub = S.signal['t'][0:n_total].reshape((n_tot_chunk,n_per_chunk))\n",
      "t_sub_reset = t_sub - t_sub[:,:,np.newaxis][:,0,:]*np.ones(n_per_chunk)\n",
      "\n",
      "SXY = np.sum(t_sub_reset*s_sub_reset,axis=1)\n",
      "SX = np.sum(t_sub_reset,axis=1)\n",
      "SY = np.sum(s_sub_reset,axis=1)\n",
      "SXX = np.sum(t_sub_reset*t_sub_reset,axis=1)\n",
      "\n",
      "slope = (n_per_chunk*SXY-SX*SY)/(n_per_chunk*SXX-SX*SX)\n",
      "\n",
      "stop = time.time()\n",
      "\n",
      "print \"Time to execute curve fit = {0:.3f} ms\".format(1E3*(stop-start))"
     ],
     "language": "python",
     "metadata": {},
     "outputs": [
      {
       "output_type": "stream",
       "stream": "stdout",
       "text": [
        "Time to execute curve fit = 10.229 ms\n"
       ]
      }
     ],
     "prompt_number": 28
    },
    {
     "cell_type": "markdown",
     "metadata": {},
     "source": [
      "## Quality of the frequency fit"
     ]
    },
    {
     "cell_type": "markdown",
     "metadata": {},
     "source": [
      "We want to compare the best-fit frequency to the known frequency.  We have to evaluate the known frequency at just the right time.  This is tricky -- we have to account for the filter delay.\n",
      "\n",
      "Take a look at size of the original arrays and the chunk-ed down arrays:"
     ]
    },
    {
     "cell_type": "code",
     "collapsed": false,
     "input": [
      "# the original data arrays\n",
      "\n",
      "print t.shape\n",
      "print f.shape\n"
     ],
     "language": "python",
     "metadata": {},
     "outputs": [
      {
       "output_type": "stream",
       "stream": "stdout",
       "text": [
        "(131072,)\n",
        "(131072,)\n"
       ]
      }
     ],
     "prompt_number": 29
    },
    {
     "cell_type": "code",
     "collapsed": false,
     "input": [
      "# the best-fit arrays\n",
      "\n",
      "print t_sub[:,0].shape\n",
      "print slope.shape\n"
     ],
     "language": "python",
     "metadata": {},
     "outputs": [
      {
       "output_type": "stream",
       "stream": "stdout",
       "text": [
        "(1310,)\n",
        "(1310,)\n"
       ]
      }
     ],
     "prompt_number": 30
    },
    {
     "cell_type": "code",
     "collapsed": false,
     "input": [
      "# the first few starting times of the chunked-down time array\n",
      "\n",
      "print t_sub[0,0]\n",
      "print t_sub[1,0]"
     ],
     "language": "python",
     "metadata": {},
     "outputs": [
      {
       "output_type": "stream",
       "stream": "stdout",
       "text": [
        "0.00025\n",
        "0.00125\n"
       ]
      }
     ],
     "prompt_number": 31
    },
    {
     "cell_type": "markdown",
     "metadata": {},
     "source": [
      "We want to extract the known frequencies at the times when ``t == t_sub[:,0]``.  How to do this?  We know the time offset due to the filter, "
     ]
    },
    {
     "cell_type": "code",
     "collapsed": false,
     "input": [
      "S.signal['td']"
     ],
     "language": "python",
     "metadata": {},
     "outputs": [
      {
       "metadata": {},
       "output_type": "pyout",
       "prompt_number": 32,
       "text": [
        "0.00025"
       ]
      }
     ],
     "prompt_number": 32
    },
    {
     "cell_type": "markdown",
     "metadata": {},
     "source": [
      "which we can convert to an array index"
     ]
    },
    {
     "cell_type": "code",
     "collapsed": false,
     "input": [
      "id = int(S.signal['td']/S.signal['dt'])\n",
      "print \"delay index =\",id"
     ],
     "language": "python",
     "metadata": {},
     "outputs": [
      {
       "output_type": "stream",
       "stream": "stdout",
       "text": [
        "delay index = 25\n"
       ]
      }
     ],
     "prompt_number": 33
    },
    {
     "cell_type": "markdown",
     "metadata": {},
     "source": [
      "As a check, let us recreate the chunked time axis from this known delay and the already computed ``n_per_chunk``. "
     ]
    },
    {
     "cell_type": "code",
     "collapsed": false,
     "input": [
      "t_theory = t[id:-1:n_per_chunk][0:n_tot_chunk]\n",
      "t_theory.size"
     ],
     "language": "python",
     "metadata": {},
     "outputs": [
      {
       "metadata": {},
       "output_type": "pyout",
       "prompt_number": 34,
       "text": [
        "1310"
       ]
      }
     ],
     "prompt_number": 34
    },
    {
     "cell_type": "markdown",
     "metadata": {},
     "source": [
      "We can see that the intial times in the rccreated array agree exactly with the data in the chunked time array.  Good -- this tells us we have chosen the correct array offsets."
     ]
    },
    {
     "cell_type": "code",
     "collapsed": false,
     "input": [
      "print t_sub[0:3,0]\n",
      "print t_theory[0:3]"
     ],
     "language": "python",
     "metadata": {},
     "outputs": [
      {
       "output_type": "stream",
       "stream": "stdout",
       "text": [
        "[ 0.00025  0.00125  0.00225]\n",
        "[ 0.00025  0.00125  0.00225]\n"
       ]
      }
     ],
     "prompt_number": 35
    },
    {
     "cell_type": "markdown",
     "metadata": {},
     "source": [
      "Now obtain the expected slope by evaluating the known slope at the same array offests.  We can now compare the known frequency to the measured frequency."
     ]
    },
    {
     "cell_type": "code",
     "collapsed": false,
     "input": [
      "slope_theory = f[id:-1:n_per_chunk][0:n_tot_chunk]\n",
      "\n",
      "plt.plot(t_theory,slope_theory,'k-')\n",
      "plt.plot(t_sub[:,0],slope,'b-')\n",
      "plt.xlabel(\"t [s]\")\n",
      "plt.ylabel(\"frequency [Hz] (theor. and meas.)\")\n",
      "plt.show()\n",
      "\n",
      "resid = slope - slope_theory\n",
      "plt.plot(t_theory,resid)\n",
      "plt.xlabel(\"t [s]\")\n",
      "plt.ylabel(\"frequency residual [Hz]\")\n",
      "plt.show()\n",
      "\n",
      "T_total = dt_chunk*np.ones(resid.size).sum()\n",
      "mean_square_error = (dt_chunk*resid*resid).sum()/T_total\n",
      "\n",
      "print \"integration period = {} s\".format(T_total)\n",
      "print \"rms frequency error = {0} Hz\".format(math.sqrt(mean_square_error))"
     ],
     "language": "python",
     "metadata": {},
     "outputs": [
      {
       "metadata": {},
       "output_type": "display_data",
       "png": "[encoded data removed]",
       "text": [
        "<matplotlib.figure.Figure at 0x10c723490>"
       ]
      },
      {
       "metadata": {},
       "output_type": "display_data",
       "png": "[encoded data removed]",
       "text": [
        "<matplotlib.figure.Figure at 0x10af18450>"
       ]
      },
      {
       "output_type": "stream",
       "stream": "stdout",
       "text": [
        "integration period = 1.31 s\n",
        "rms frequency error = 1.21085066726 Hz\n"
       ]
      }
     ],
     "prompt_number": 36
    },
    {
     "cell_type": "markdown",
     "metadata": {},
     "source": [
      "It is hard to see the difference between the calculated and the known frequency.  Computing the residual error is more revealing.  Plotting the residual error we see a large 2 Hz error in the measured frequency during the ramp.  Given that there is no noise in the data, this error is significant: 2/4000 = 0.05 percent.  Surprisingly, the difference between the measured and the known frequency is *constant* during the ramp.  \n",
      "\n",
      "...\n",
      "\n",
      "Ok, paper-and-pencil calculations tell me that the least squares fit really measures the frequency at the *center* of the integration window.  To account for this correction, we need to compare to the known frequency at an array index ``n_per_chunk/2`` later than we did above.  Adding a ``-1`` shift to the time index further improves the agreement.\n",
      "\n",
      "Making these two corrections -- the expected ``n_per_chunk/2`` shift and the empirical ``-1`` shift -- the agreement improves dramatically.  The rms error drops from 1.2 Hz to 0.002 Hz.  "
     ]
    },
    {
     "cell_type": "code",
     "collapsed": false,
     "input": [
      "\n",
      "slope_theory = f[id-1+n_per_chunk/2:-1:n_per_chunk][0:n_tot_chunk]\n",
      "\n",
      "plt.plot(t_theory,slope_theory,'k-')\n",
      "plt.plot(t_sub[:,0],slope,'b-')\n",
      "plt.xlabel(\"t [s]\")\n",
      "plt.ylabel(\"frequency [Hz] (theor. and meas.)\")\n",
      "plt.show()\n",
      "\n",
      "resid = slope - slope_theory\n",
      "plt.plot(t_theory,1E6*resid)\n",
      "plt.ylim([-0.1,0.1])\n",
      "plt.xlabel(\"t [s]\")\n",
      "plt.ylabel(\"frequency residual [uHz]\")\n",
      "plt.show()\n",
      "\n",
      "T_total = dt_chunk*np.ones(resid.size).sum()\n",
      "mean_square_error = (dt_chunk*resid*resid).sum()/T_total\n",
      "\n",
      "print \"integration period = {} s\".format(T_total)\n",
      "print \"rms frequency error = {0} Hz\".format(math.sqrt(mean_square_error))\n"
     ],
     "language": "python",
     "metadata": {},
     "outputs": [
      {
       "metadata": {},
       "output_type": "display_data",
       "png": "[encoded data removed]",
       "text": [
        "<matplotlib.figure.Figure at 0x10bfc23d0>"
       ]
      },
      {
       "metadata": {},
       "output_type": "display_data",
       "png": "[encoded data removed]",
       "text": [
        "<matplotlib.figure.Figure at 0x10af49210>"
       ]
      },
      {
       "output_type": "stream",
       "stream": "stdout",
       "text": [
        "integration period = 1.31 s\n",
        "rms frequency error = 0.0022156380747 Hz\n"
       ]
      }
     ],
     "prompt_number": 37
    },
    {
     "cell_type": "markdown",
     "metadata": {},
     "source": [
      "## Conclusions\n",
      "\n",
      "* Care must be taken to generate the oscillating signal when the frequency is a function of time.  Above I used a phase-advance to construct the oscillating signal.\n",
      "\n",
      "* We can speed up the curve fitting used to extract the frequency by a factor of 5 or more by implementing our own least-squares slope calculation. \n",
      "\n",
      "* For a linear frequency ramp, the agreement between measured and expected frequency is excellent, provided one compares the measured frequency to the known frequency evaluated *at the middle of the fitting window*."
     ]
    },
    {
     "cell_type": "markdown",
     "metadata": {},
     "source": [
      "## Curve fit revisited\n",
      "\n",
      "I observe that two of the sums in the least-squares slope calculation can be calculated by hand.  This could speed up the slope calculation.  Let's repeat the above curve fit:"
     ]
    },
    {
     "cell_type": "code",
     "collapsed": false,
     "input": [
      "import time\n",
      "\n",
      "start = time.time()\n",
      "\n",
      "s_sub = S.signal['theta'][0:n_total].reshape((n_tot_chunk,n_per_chunk))\n",
      "s_sub_reset = s_sub - s_sub[:,:,np.newaxis][:,0,:]*np.ones(n_per_chunk)\n",
      "\n",
      "t_sub = S.signal['t'][0:n_total].reshape((n_tot_chunk,n_per_chunk))\n",
      "t_sub_reset = t_sub - t_sub[:,:,np.newaxis][:,0,:]*np.ones(n_per_chunk)\n",
      "\n",
      "SXY = np.sum(t_sub_reset*s_sub_reset,axis=1)\n",
      "SX = np.sum(t_sub_reset,axis=1)\n",
      "SY = np.sum(s_sub_reset,axis=1)\n",
      "SXX = np.sum(t_sub_reset*t_sub_reset,axis=1)\n",
      "\n",
      "slope = (n_per_chunk*SXY-SX*SY)/(n_per_chunk*SXX-SX*SX)\n",
      "\n",
      "stop = time.time()\n",
      "\n",
      "print \"Time to execute curve fit = {0:.3f} ms\".format(1E3*(stop-start))"
     ],
     "language": "python",
     "metadata": {},
     "outputs": [
      {
       "output_type": "stream",
       "stream": "stdout",
       "text": [
        "Time to execute curve fit = 8.036 ms\n"
       ]
      }
     ],
     "prompt_number": 46
    },
    {
     "cell_type": "markdown",
     "metadata": {},
     "source": [
      "Since the time data are equally spaced, we can calculate the ``SX`` and ``SXX`` sums by hand in closed form.  The measured and calculated values agree exactly."
     ]
    },
    {
     "cell_type": "code",
     "collapsed": false,
     "input": [
      "print \"SX measured = {}\".format(SX[0])\n",
      "SXcalc = (S.signal['dt'])*0.50*(n_per_chunk-1)*(n_per_chunk)\n",
      "print \"SX calculated = {}\".format(SXcalc)"
     ],
     "language": "python",
     "metadata": {},
     "outputs": [
      {
       "output_type": "stream",
       "stream": "stdout",
       "text": [
        "SX measured = 0.0495\n",
        "SX calculated = 0.0495\n"
       ]
      }
     ],
     "prompt_number": 47
    },
    {
     "cell_type": "code",
     "collapsed": false,
     "input": [
      "print \"SXX measured = {}\".format(SXX[0])\n",
      "SXXcalc = (S.signal['dt'])**2*(1/6.0)*\\\n",
      "    (n_per_chunk)*(n_per_chunk-1)*(2*n_per_chunk-1)\n",
      "print \"SXX calculated = {}\".format(SXXcalc)"
     ],
     "language": "python",
     "metadata": {},
     "outputs": [
      {
       "output_type": "stream",
       "stream": "stdout",
       "text": [
        "SXX measured = 3.2835e-05\n",
        "SXX calculated = 3.2835e-05\n"
       ]
      }
     ],
     "prompt_number": 48
    },
    {
     "cell_type": "markdown",
     "metadata": {},
     "source": [
      "We can go back and further simplify the curve fitting by using the calculated values of ``SX`` and ``SXX``."
     ]
    },
    {
     "cell_type": "code",
     "collapsed": false,
     "input": [
      "import time\n",
      "\n",
      "start = time.time()\n",
      "\n",
      "s_sub = S.signal['theta'][0:n_total].reshape((n_tot_chunk,n_per_chunk))\n",
      "s_sub_reset = s_sub - s_sub[:,:,np.newaxis][:,0,:]*np.ones(n_per_chunk)\n",
      "\n",
      "t_sub = S.signal['t'][0:n_total].reshape((n_tot_chunk,n_per_chunk))\n",
      "t_sub_reset = t_sub - t_sub[:,:,np.newaxis][:,0,:]*np.ones(n_per_chunk)\n",
      "\n",
      "# SX = np.sum(t_sub_reset,axis=1)\n",
      "# SXX = np.sum(t_sub_reset*t_sub_reset,axis=1)\n",
      "\n",
      "SX = (S.signal['dt'])*0.50*(n_per_chunk-1)*(n_per_chunk)\n",
      "SXX = (S.signal['dt'])**2*(1/6.0)*\\\n",
      "    (n_per_chunk)*(n_per_chunk-1)*(2*n_per_chunk-1)\n",
      "\n",
      "SY = np.sum(s_sub_reset,axis=1)\n",
      "SXY = np.sum(t_sub_reset*s_sub_reset,axis=1)\n",
      "\n",
      "slope = (n_per_chunk*SXY-SX*SY)/(n_per_chunk*SXX-SX*SX)\n",
      "\n",
      "stop = time.time()\n",
      "\n",
      "print \"Time to execute curve fit = {0:.3f} ms\".format(1E3*(stop-start))"
     ],
     "language": "python",
     "metadata": {},
     "outputs": [
      {
       "output_type": "stream",
       "stream": "stdout",
       "text": [
        "Time to execute curve fit = 7.064 ms\n"
       ]
      }
     ],
     "prompt_number": 49
    },
    {
     "cell_type": "markdown",
     "metadata": {},
     "source": [
      "Surprising, not much of an additional speed up. maybe 10 or 20 percent ... There *is* a memory reduction, since there are two fewer large arrays to store.  Therefore, use the the calculated ``SX`` and ``SXX``.\n",
      "\n",
      "## Conclusions\n",
      "\n",
      "* We can speed up the curve fitting by another small factor (only 10 or 20 percent) while saving memory by using calculated values for two of the sums in the least-squares calculation of the slope."
     ]
    }
   ],
   "metadata": {}
  }
 ]
}