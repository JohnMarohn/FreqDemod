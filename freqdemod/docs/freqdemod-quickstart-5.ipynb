{
 "metadata": {
  "name": "",
<<<<<<< HEAD
  "signature": "sha256:d3fc499358b5b3ccce22035cf6c177fba452ce25921da3174735ee2183b58cd0"
=======
  "signature": "sha256:4d037c89f2958348537d66bb53c131b63f28a923648b60bfaa242c0270568dcd"
>>>>>>> rename-freqdemod
 },
 "nbformat": 3,
 "nbformat_minor": 0,
 "worksheets": [
  {
   "cells": [
    {
     "cell_type": "markdown",
     "metadata": {},
     "source": [
      "# freqdemod-quickstart-5\n",
      "\n",
      "### Author information\n",
      "\n",
      "John A. Marohn (jam99@cornell.edu)  \n",
      "Department of Chemistry and Chemical Biology  \n",
      "Cornell University  \n",
      "Ithaca, NY USA; 14853-1301\n",
      "\n",
      "### Date\n",
      "\n",
      "2014/07/23\n",
      "\n",
      "### Abstract\n",
      "\n",
      "Read in data from a `wav` file an analyze it.\n",
      "\n",
      "\n",
      "[//]: # (install pyaudio using the Canopy/Enthought package manager; pyaudio 0.2.4)\n",
      "[//]: # (Adapted from http://stackoverflow.com/questions/18625085/how-to-plot-a-wav-file)"
     ]
    },
    {
     "cell_type": "code",
     "collapsed": false,
     "input": [
      "import os, sys\n",
      "module_path = os.path.abspath(os.path.join(os.getcwd(), '..'))\n",
      "sys.path.append(module_path)"
<<<<<<< HEAD
=======
     ],
     "language": "python",
     "metadata": {},
     "outputs": []
    },
    {
     "cell_type": "code",
     "collapsed": false,
     "input": [
      "from freqdemod.demodulate import Signal"
>>>>>>> rename-freqdemod
     ],
     "language": "python",
     "metadata": {},
     "outputs": [],
     "prompt_number": 2
    },
    {
     "cell_type": "code",
     "collapsed": false,
     "input": [
<<<<<<< HEAD
      "from freqdemod.freqdemod import Signal"
=======
      "# %matplotlib inline"
>>>>>>> rename-freqdemod
     ],
     "language": "python",
     "metadata": {},
     "outputs": [],
     "prompt_number": 4
    },
    {
     "cell_type": "code",
     "collapsed": false,
     "input": [
      "# %matplotlib inline"
     ],
     "language": "python",
     "metadata": {},
     "outputs": [],
     "prompt_number": 5
    },
    {
     "cell_type": "code",
     "collapsed": false,
     "input": [
      "import numpy as np\n",
      "import matplotlib.pylab as plt\n",
      "\n",
      "font = {'family' : 'serif',\n",
      "        'weight' : 'normal',\n",
      "        'size'   : 20}\n",
      "\n",
      "plt.rc('font', **font)\n",
      "plt.rcParams['figure.figsize'] = 8, 6"
     ],
     "language": "python",
     "metadata": {},
     "outputs": [],
     "prompt_number": 7
    },
    {
     "cell_type": "code",
     "collapsed": false,
     "input": [
      "import matplotlib.pyplot as plt\n",
      "import numpy as np\n",
      "import wave\n",
      "import sys\n",
      "\n",
      "spf = wave.open('output.wav','r')\n",
      "\n",
      "#Extract Raw Audio from Wav File\n",
      "\n",
      "signal = spf.readframes(-1)\n",
      "signal = np.fromstring(signal, 'Int16')\n",
      "fs = spf.getframerate()\n",
      "\n",
      "t = np.linspace(0, len(signal)/fs, num=len(signal))\n",
      "\n",
      "plt.figure(facecolor='w')\n",
      "plt.title('Signal Wave...')\n",
      "plt.plot(t,signal)\n",
      "plt.ylabel('amplitude [a.u.]')\n",
      "plt.xlabel('time [s]')\n",
      "plt.show()"
     ],
     "language": "python",
     "metadata": {},
<<<<<<< HEAD
     "outputs": []
=======
     "outputs": [],
     "prompt_number": 4
>>>>>>> rename-freqdemod
    },
    {
     "cell_type": "code",
     "collapsed": false,
     "input": [
      "1.0/fs"
     ],
     "language": "python",
     "metadata": {},
     "outputs": [
      {
       "metadata": {},
       "output_type": "pyout",
       "prompt_number": 5,
       "text": [
        "2.2675736961451248e-05"
       ]
      }
     ],
     "prompt_number": 5
    },
    {
     "cell_type": "code",
     "collapsed": false,
     "input": [
      "S = Signal(signal,\"V\",\"a.u.\",1.0/fs)"
     ],
     "language": "python",
     "metadata": {},
     "outputs": [],
     "prompt_number": 6
    },
    {
     "cell_type": "code",
     "collapsed": false,
     "input": [
      "S.binarate(\"end\")\n",
      "S.window(tw=10.0E-3)\n",
      "S.plot_signal()"
     ],
     "language": "python",
     "metadata": {},
     "outputs": [],
     "prompt_number": 7
    },
    {
     "cell_type": "code",
     "collapsed": false,
     "input": [
      "S.fft()\n",
      "S.filter(bw=0.1E3)\n",
      "S.plot_fft(autozoom=\"no\")\n",
      "S.plot_fft(autozoom=\"yes\")"
     ],
     "language": "python",
     "metadata": {},
     "outputs": [],
     "prompt_number": 8
    },
    {
     "cell_type": "code",
     "collapsed": false,
     "input": [
      "S.ifft()\n",
      "S.trim()\n",
      "S.plot_phase()\n",
      "S.plot_phase(delta=\"yes\")"
     ],
     "language": "python",
     "metadata": {},
     "outputs": [],
     "prompt_number": 9
    },
    {
     "cell_type": "code",
     "collapsed": false,
     "input": [
      "S.fit(dt_chunk_target=0.50E-3)\n",
      "S.plot_phase_fit()\n",
      "S.plot_phase_fit(delta=\"yes\")"
     ],
     "language": "python",
     "metadata": {},
     "outputs": [],
     "prompt_number": 11
    },
    {
     "cell_type": "code",
     "collapsed": false,
     "input": [
      "S.plot_fft(autozoom=\"no\")"
     ],
     "language": "python",
     "metadata": {},
     "outputs": []
    },
    {
     "cell_type": "code",
     "collapsed": false,
     "input": [],
     "language": "python",
     "metadata": {},
     "outputs": []
    }
   ],
   "metadata": {}
  }
 ]
}